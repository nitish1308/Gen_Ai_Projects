{
  "nbformat": 4,
  "nbformat_minor": 0,
  "metadata": {
    "colab": {
      "provenance": []
    },
    "kernelspec": {
      "name": "python3",
      "display_name": "Python 3"
    },
    "language_info": {
      "name": "python"
    }
  },
  "cells": [
    {
      "cell_type": "code",
      "execution_count": null,
      "metadata": {
        "colab": {
          "base_uri": "https://localhost:8080/"
        },
        "id": "60mSBxTR4E_X",
        "outputId": "56602e0c-e1e5-422e-dff1-a15e1864be73"
      },
      "outputs": [
        {
          "output_type": "stream",
          "name": "stdout",
          "text": [
            "\u001b[?25l   \u001b[90m━━━━━━━━━━━━━━━━━━━━━━━━━━━━━━━━━━━━━━━━\u001b[0m \u001b[32m0.0/129.6 kB\u001b[0m \u001b[31m?\u001b[0m eta \u001b[36m-:--:--\u001b[0m\r\u001b[2K   \u001b[90m━━━━━━━━━━━━━━━━━━━━━━━━━━━━━━━━━━━━━━━━\u001b[0m \u001b[32m129.6/129.6 kB\u001b[0m \u001b[31m4.0 MB/s\u001b[0m eta \u001b[36m0:00:00\u001b[0m\n",
            "\u001b[?25h"
          ]
        },
        {
          "output_type": "stream",
          "name": "stderr",
          "text": [
            "<ipython-input-1-3697816396>:39: LangChainDeprecationWarning: Please see the migration guide at: https://python.langchain.com/docs/versions/migrating_memory/\n",
            "  memory = ConversationBufferMemory(input_key=\"idea\", memory_key=\"chat_history\")\n",
            "<ipython-input-1-3697816396>:42: LangChainDeprecationWarning: The class `LLMChain` was deprecated in LangChain 0.1.17 and will be removed in 1.0. Use :meth:`~RunnableSequence, e.g., `prompt | llm`` instead.\n",
            "  chain = LLMChain(\n"
          ]
        },
        {
          "name": "stdout",
          "output_type": "stream",
          "text": [
            "💡 Enter your startup idea:\n",
            "> AI-powered crop disease detection using drones\n"
          ]
        },
        {
          "output_type": "stream",
          "name": "stderr",
          "text": [
            "<ipython-input-1-3697816396>:53: LangChainDeprecationWarning: The method `Chain.run` was deprecated in langchain 0.1.0 and will be removed in 1.0. Use :meth:`~invoke` instead.\n",
            "  response = chain.run(idea=idea)\n"
          ]
        },
        {
          "output_type": "stream",
          "name": "stdout",
          "text": [
            "\n",
            "\n",
            "\u001b[1m> Entering new LLMChain chain...\u001b[0m\n",
            "Prompt after formatting:\n",
            "\u001b[32;1m\u001b[1;3m\n",
            "You are a startup strategist. Based on the idea: \"AI-powered crop disease detection using drones\", generate a detailed startup blueprint with the following sections:\n",
            "\n",
            "1. Problem Statement\n",
            "2. Target Market\n",
            "3. Proposed Solution\n",
            "4. Technical Stack\n",
            "5. MVP Features\n",
            "6. Monetization Strategy\n",
            "7. One-line Pitch\n",
            "8. Suggest 3 unique and catchy startup name ideas\n",
            "\n",
            "Respond clearly under each section.\n",
            "\u001b[0m\n",
            "\n",
            "\u001b[1m> Finished chain.\u001b[0m\n",
            "\n",
            "🚀 Startup Blueprint:\n",
            "\n",
            "Here is a detailed startup blueprint for the idea \"AI-powered crop disease detection using drones\":\n",
            "\n",
            "**1. Problem Statement**\n",
            "\n",
            "Crop diseases are a significant threat to global food security, causing an estimated 20-40% of crop losses worldwide. Traditional methods of disease detection, such as manual scouting and laboratory testing, are time-consuming, labor-intensive, and often inaccurate. This leads to delayed treatment, reduced yields, and increased pesticide use, resulting in environmental and economic sustainability.\n",
            "\n",
            "**2. Target Market**\n",
            "\n",
            "* Primary target market: Large-scale commercial farmers and agricultural companies\n",
            "* Secondary target market: Small-scale farmers, agricultural research institutions, and government agencies\n",
            "* Geographic focus: Initial focus on the United States, with plans to expand to Europe, Asia, and Latin America\n",
            "\n",
            "**3. Proposed Solution**\n",
            "\n",
            "Our solution, [Startup Name], is an AI-powered crop disease detection platform that utilizes drones equipped with high-resolution cameras to capture images of crops. Our AI algorithm analyzes these images to identify early signs of disease, providing farmers with accurate and timely insights to take action. Our platform offers:\n",
            "\n",
            "* Real-time disease detection and alerts\n",
            "* Personalized treatment recommendations\n",
            "* Crop health monitoring and reporting\n",
            "* Integration with existing farm management systems\n",
            "\n",
            "**Technical Stack**\n",
            "\n",
            "* Drone hardware: DJI Matrice 300 RTK or similar drones with high-resolution cameras\n",
            "* AI algorithm: Custom-built using computer vision and machine learning techniques (e.g., TensorFlow, PyTorch)\n",
            "* Cloud infrastructure: Amazon Web Services (AWS) or Google Cloud Platform (GCP)\n",
            "* Mobile app: Developed using React Native or Flutter\n",
            "* API integration: With farm management systems, such as John Deere's Operations Center or FarmLogs\n",
            "\n",
            "**4. MVP Features**\n",
            "\n",
            "* Drone-based image capture and AI-powered disease detection\n",
            "* Basic crop health monitoring and reporting\n",
            "* Limited treatment recommendations\n",
            "* Integration with a single farm management system\n",
            "* Limited user management and access control**\n",
            "\n",
            "**6. Monetization Strategy**\n",
            "\n",
            "* Subscription-based model: Offer farmers a monthly or annual subscription to access our platform and receive regular disease detection and treatment recommendations\n",
            "* Pay-per-use model: Charge farmers a fee for each drone flight and AI analysis\n",
            "* Data analytics services: Offer additional insights and data analytics services to farmers, agricultural companies, and research institutions\n",
            "* Partnerships: Collaborate with agricultural input companies to offer bundled solutions and generate revenue through commission-based sales\n",
            "\n",
            "**7. One-line Pitch**\n",
            "\n",
            "\"[Startup Name] is an AI-powered crop disease detection platform that uses drones to provide farmers with accurate, timely, and actionable insights to increase yields, reduce costs, and promote sustainable agriculture.\"\n",
            "\n",
            "**8. Suggest 3 unique and catchy startup name ideas**\n",
            "\n",
            "1. **CropSight**: A combination of \"crop\" and \"insight,\" suggesting the platform's ability to provide farmers with valuable insights into their crops.\n",
            "3. **AgriEye**: A play on \"agriculture\" and \"eye,\" implying the platform's ability to keep a watchful eye on crops and detect diseases early.\n",
            "2. **FarmForesight**: A combination of \"farm\" and \"foresight,\" suggesting the platform's ability to help farmers anticipate and prepare for potential crop diseases.\n"
          ]
        }
      ],
      "source": [
        "# 📦 Install packages\n",
        "!pip install -q langchain langchain_groq groq\n",
        "\n",
        "# 📚 Imports\n",
        "import os\n",
        "from langchain.memory import ConversationBufferMemory\n",
        "from langchain_groq import ChatGroq\n",
        "from langchain.prompts import PromptTemplate\n",
        "from langchain.chains import LLMChain\n",
        "\n",
        "# 🔐 Set API key\n",
        "GROQ_API_KEY = \"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\"\n",
        "os.environ[\"GROQ_API_KEY\"] = GROQ_API_KEY\n",
        "\n",
        "# ⚙️ Init Groq LLM\n",
        "llm = ChatGroq(\n",
        "    temperature=0.3,\n",
        "    groq_api_key=GROQ_API_KEY,\n",
        "    model_name=\"llama3-70b-8192\"\n",
        ")\n",
        "\n",
        "# ✍️ Prompt Template with Name Suggestions\n",
        "startup_prompt = PromptTemplate.from_template(\"\"\"\n",
        "You are a startup strategist. Based on the idea: \"{idea}\", generate a detailed startup blueprint with the following sections:\n",
        "\n",
        "1. Problem Statement\n",
        "2. Target Market\n",
        "3. Proposed Solution\n",
        "4. Technical Stack\n",
        "5. MVP Features\n",
        "6. Monetization Strategy\n",
        "7. One-line Pitch\n",
        "8. Suggest 3 unique and catchy startup name ideas\n",
        "\n",
        "Respond clearly under each section.\n",
        "\"\"\")\n",
        "\n",
        "# 🧠 Memory for multi-turn if needed\n",
        "memory = ConversationBufferMemory(input_key=\"idea\", memory_key=\"chat_history\")\n",
        "\n",
        "# 🔄 Chain\n",
        "chain = LLMChain(\n",
        "    llm=llm,\n",
        "    prompt=startup_prompt,\n",
        "    memory=memory,\n",
        "    verbose=True\n",
        ")\n",
        "\n",
        "# 🚀 Input your idea\n",
        "idea = input(\"💡 Enter your startup idea:\\n> \")\n",
        "\n",
        "# 🔁 Run the chain\n",
        "response = chain.run(idea=idea)\n",
        "\n",
        "# 📋 Print the blueprint\n",
        "print(\"\\n🚀 Startup Blueprint:\\n\")\n",
        "print(response)\n"
      ]
    }
  ]
}