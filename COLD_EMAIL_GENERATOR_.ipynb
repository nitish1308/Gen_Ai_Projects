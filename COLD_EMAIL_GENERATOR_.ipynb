{
  "nbformat": 4,
  "nbformat_minor": 0,
  "metadata": {
    "colab": {
      "provenance": []
    },
    "kernelspec": {
      "name": "python3",
      "display_name": "Python 3"
    },
    "language_info": {
      "name": "python"
    }
  },
  "cells": [
    {
      "cell_type": "code",
      "source": [
        "# 🛠️ Step 1: Install libraries\n",
        "!pip install groq beautifulsoup4 requests -q\n"
      ],
      "metadata": {
        "id": "uTOM0_U4nl20"
      },
      "execution_count": null,
      "outputs": []
    },
    {
      "cell_type": "code",
      "source": [
        "# 🧠 Step 2: Import libraries\n",
        "import requests\n",
        "from bs4 import BeautifulSoup\n",
        "from groq import Groq\n"
      ],
      "metadata": {
        "id": "lDh590h0nlzz"
      },
      "execution_count": null,
      "outputs": []
    },
    {
      "cell_type": "code",
      "source": [
        "# 🔐 Step 3: Setup GROQ API\n",
        "api_key = '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'  # 🔁 Replace with your real API key\n",
        "client = Groq(api_key=api_key)\n"
      ],
      "metadata": {
        "id": "ccXmXEZAnlxb"
      },
      "execution_count": null,
      "outputs": []
    },
    {
      "cell_type": "code",
      "source": [
        "# 🌐 Step 4: Function to extract job description from URL\n",
        "def extract_job_description(url):\n",
        "    try:\n",
        "        response = requests.get(url)\n",
        "        soup = BeautifulSoup(response.text, 'html.parser')\n",
        "\n",
        "        # Extract all visible text paragraphs\n",
        "        paragraphs = soup.find_all('p')\n",
        "        job_text = ' '.join(p.get_text() for p in paragraphs)\n",
        "        return job_text[:3000]  # Limit size for efficiency\n",
        "\n",
        "    except Exception as e:\n",
        "        return f\"Error fetching job description: {str(e)}\"\n"
      ],
      "metadata": {
        "id": "Gub9Y9ilnlui"
      },
      "execution_count": null,
      "outputs": []
    },
    {
      "cell_type": "code",
      "source": [
        "# 📥 Step 5: Ask user for inputs\n",
        "job_url = input(\"Paste job posting URL here: \").strip().strip('\"')\n",
        "\n",
        "\n",
        "\n",
        "portfolio = \"\"\"\n",
        "- Built scalable web apps using React, Node, and MongoDB.\n",
        "- Created LLM-powered tools like resume parsers and job matchers.\n",
        "- Deployed ML apps on AWS/GCP using CI/CD.\n",
        "- Published tutorials on full-stack dev and NLP workflows.\n",
        "\"\"\"  # You can replace this with `input(\"Enter your portfolio: \")` for dynamic input\n",
        "\n",
        "job_description = extract_job_description(job_url)\n",
        "print(\"\\n📝 Extracted Job Description (first 500 chars):\\n\")\n",
        "print(job_description[:500])\n"
      ],
      "metadata": {
        "colab": {
          "base_uri": "https://localhost:8080/"
        },
        "id": "2lIvQ28lnlr7",
        "outputId": "5111e649-1642-4661-de48-fbc8476971b4"
      },
      "execution_count": null,
      "outputs": [
        {
          "output_type": "stream",
          "name": "stdout",
          "text": [
            "Paste job posting URL here:  \"https://remoteok.com/remote-jobs/remote-fullstack-developer-job\"\n",
            "\n",
            "📝 Extracted Job Description (first 500 chars):\n",
            "\n",
            "\n"
          ]
        }
      ]
    },
    {
      "cell_type": "code",
      "source": [
        "# 🧠 Step 6: Prepare prompt\n",
        "prompt = f\"\"\"\n",
        "You are an expert job applicant assistant.\n",
        "\n",
        "Write a **personalized cold email** applying to the job below. Make it:\n",
        "- Professional, polite, and enthusiastic\n",
        "- Less than 200 words\n",
        "- Matching the candidate’s portfolio with the job\n",
        "\n",
        "Job Description:\n",
        "{job_description}\n",
        "\n",
        "Candidate’s Portfolio:\n",
        "{portfolio}\n",
        "\"\"\"\n"
      ],
      "metadata": {
        "id": "HQWmp2QWoOOp"
      },
      "execution_count": null,
      "outputs": []
    },
    {
      "cell_type": "code",
      "source": [
        "# ✨ Step 7: Generate cold email with GROQ\n",
        "response = client.chat.completions.create(\n",
        "    model=\"llama3-8b-8192\",\n",
        "    messages=[\n",
        "        {\"role\": \"user\", \"content\": prompt}\n",
        "    ]\n",
        ")\n",
        "\n",
        "print(\"\\n📧 Cold Email:\\n\")\n",
        "print(response.choices[0].message.content)\n"
      ],
      "metadata": {
        "colab": {
          "base_uri": "https://localhost:8080/"
        },
        "id": "3HeYD1mpoSDq",
        "outputId": "a9e6e48f-defa-436b-b0b2-e43842c57fc7"
      },
      "execution_count": null,
      "outputs": [
        {
          "output_type": "stream",
          "name": "stdout",
          "text": [
            "\n",
            "📧 Cold Email:\n",
            "\n",
            "Subject: Excited to Apply for [Job Title] Role at [Company Name]\n",
            "\n",
            "Dear [Hiring Manager's Name],\n",
            "\n",
            "I came across the [Job Title] role at [Company Name] and was thrilled to see that it aligns with my skills and passion for building innovative web applications and leveraging AI/ML technologies. With my background in building scalable web apps using React, Node, and MongoDB, I'm confident that I can bring value to your team.\n",
            "\n",
            "As a seasoned developer, I've created LLM-powered tools like resume parsers and job matchers, which has given me a unique understanding of the importance of efficiently processing and analyzing large datasets. My experience with deploying ML apps on AWS/GCP using CI/CD has also equipped me with the skills to ensure smooth deployments and scalability.\n",
            "\n",
            "I'd love to discuss how my expertise can contribute to your team's successes. I've attached my portfolio for your review, which showcases my work on full-stack dev and NLP workflows. I'm excited about the opportunity to explore how we can work together to drive innovation.\n",
            "\n",
            "Looking forward to hearing from you!\n",
            "\n",
            "Best regards,\n",
            "\n",
            "[Your Name]\n"
          ]
        }
      ]
    },
    {
      "cell_type": "code",
      "source": [
        "# 🛠️ Step 1: Install libraries\n",
        "!pip install groq beautifulsoup4 requests -q\n",
        "\n",
        "# 🧠 Step 2: Import libraries\n",
        "import requests\n",
        "from bs4 import BeautifulSoup\n",
        "from groq import Groq\n",
        "\n",
        "# 🔐 Step 3: Setup GROQ API\n",
        "api_key = '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'  # 🔁 Replace with your GROQ API key\n",
        "client = Groq(api_key=api_key)\n",
        "\n",
        "# 🌐 Step 4: Function to extract job description from URL\n",
        "def extract_job_description(url):\n",
        "    try:\n",
        "        response = requests.get(url)\n",
        "        soup = BeautifulSoup(response.text, 'html.parser')\n",
        "        paragraphs = soup.find_all('p')\n",
        "        job_text = ' '.join(p.get_text() for p in paragraphs)\n",
        "        return job_text[:3000]  # limit for LLM\n",
        "    except Exception as e:\n",
        "        return f\"Error fetching job description: {str(e)}\"\n",
        "\n",
        "# 📥 Step 5: User only inputs job URL\n",
        "job_url = input(\"🔗 Paste job posting URL here: \").strip().strip('\"')\n",
        "\n",
        "# 🧑 Preset User Details\n",
        "your_name = \"Nitish Sawant\"\n",
        "your_role = \"Full Stack Developer\"\n",
        "your_experience = \"2 years of experience building web apps using React and Node.js\"\n",
        "your_skills = \"React, Node.js, MongoDB, AWS, REST APIs\"\n",
        "your_portfolio = \"https://github.com/nitishsawant/projects\"\n",
        "your_email = \"nitish@example.com\"\n",
        "company_name = \"RemoteOK\"\n",
        "\n",
        "# 📄 Step 6: Extract and preview job description\n",
        "job_description = extract_job_description(job_url)\n",
        "print(\"\\n📝 Extracted Job Description (first 500 chars):\\n\")\n",
        "print(job_description[:500])\n",
        "\n",
        "# 💼 Step 7: Prepare candidate portfolio summary\n",
        "portfolio = f\"\"\"\n",
        "🔹 Name: {your_name}\n",
        "🔹 Role: {your_role}\n",
        "🔹 Experience: {your_experience}\n",
        "🔹 Skills: {your_skills}\n",
        "🔹 Portfolio: {your_portfolio}\n",
        "🔹 Email: {your_email}\n",
        "\"\"\"\n",
        "\n",
        "# 🧠 Step 8: Prepare prompt for GROQ LLM\n",
        "prompt = f\"\"\"\n",
        "You are an expert job applicant assistant.\n",
        "\n",
        "Write a **personalized cold email** applying to the job below. Make it:\n",
        "- Professional, polite, and enthusiastic\n",
        "- Less than 200 words\n",
        "- Matching the candidate’s portfolio with the job\n",
        "\n",
        "Job Description:\n",
        "{job_description}\n",
        "\n",
        "Candidate’s Portfolio:\n",
        "{portfolio}\n",
        "\"\"\"\n",
        "\n",
        "# ✨ Step 9: Generate cold email using GROQ (LLaMA 3)\n",
        "response = client.chat.completions.create(\n",
        "    model=\"llama3-8b-8192\",\n",
        "    messages=[\n",
        "        {\"role\": \"user\", \"content\": prompt}\n",
        "    ]\n",
        ")\n",
        "\n",
        "# 📧 Output\n",
        "print(\"\\n📧 Cold Email:\\n\")\n",
        "print(response.choices[0].message.content)\n"
      ],
      "metadata": {
        "colab": {
          "base_uri": "https://localhost:8080/"
        },
        "id": "60wvj2WxpgjE",
        "outputId": "7782e984-ed12-4e67-ea2e-d34bd0756bb7"
      },
      "execution_count": null,
      "outputs": [
        {
          "output_type": "stream",
          "name": "stdout",
          "text": [
            "🔗 Paste job posting URL here: https://www.linkedin.com/jobs/view/12345678/\n",
            "\n",
            "📝 Extracted Job Description (first 500 chars):\n",
            "\n",
            "\n",
            "            Get notified about new Allyalign Health jobs in United States.\n",
            "             \n",
            "              or\n",
            "             \n",
            "      By clicking Continue to join or sign in, you agree to LinkedIn’s User Agreement, Privacy Policy, and Cookie Policy.\n",
            "     \n",
            "                New to LinkedIn? Join now\n",
            " \n",
            "                    or\n",
            "                   \n",
            "      By clicking Continue to join or sign in, you agree to LinkedIn’s User Agreement, Privacy Policy, and Cookie Policy.\n",
            "     \n",
            "              Agree & Join LinkedIn\n",
            "\n",
            "\n",
            "📧 Cold Email:\n",
            "\n",
            "Subject: Excited to Apply for a Role at Allyalign Health as a Full Stack Developer\n",
            "\n",
            "Dear Hiring Manager,\n",
            "\n",
            "I came across the Full Stack Developer role at Allyalign Health and was thrilled to see that your company is seeking a talented developer with skills in React and Node.js - exactly what I bring to the table! With 2 years of experience in building web apps using these technologies, I'm confident that I would be a great fit for your team.\n",
            "\n",
            "I've reviewed your company's profiles on LinkedIn and am impressed by the innovative solutions you're driven to deliver. My portfolio (https://github.com/nitishsawant/projects) showcases my expertise in React, Node.js, MongoDB, AWS, and REST APIs, which aligns perfectly with your requirements. I'm excited about the prospect of contributing to Allyalign Health's vision and working alongside a talented team.\n",
            "\n",
            "I'd be thrilled to discuss this opportunity further and explore how I can bring value to your organization. Please feel free to reach out to me at nitish@example.com or connect with me on LinkedIn.\n",
            "\n",
            "Thank you for considering my application. I look forward to the opportunity to discuss this further.\n",
            "\n",
            "Best regards,\n",
            "Nitish Sawant\n"
          ]
        }
      ]
    }
  ]
}