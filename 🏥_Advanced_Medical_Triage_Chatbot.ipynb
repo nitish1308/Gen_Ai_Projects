{
  "nbformat": 4,
  "nbformat_minor": 0,
  "metadata": {
    "colab": {
      "provenance": []
    },
    "kernelspec": {
      "name": "python3",
      "display_name": "Python 3"
    },
    "language_info": {
      "name": "python"
    }
  },
  "cells": [
    {
      "cell_type": "code",
      "source": [
        "# Install the groq library if it's not already installed\n",
        "!pip install groq"
      ],
      "metadata": {
        "colab": {
          "base_uri": "https://localhost:8080/"
        },
        "id": "C9V6qbRhsTnV",
        "outputId": "40bac151-943e-4f10-bc32-7b9c6cc73099"
      },
      "execution_count": null,
      "outputs": [
        {
          "output_type": "stream",
          "name": "stdout",
          "text": [
            "Collecting groq\n",
            "  Downloading groq-0.26.0-py3-none-any.whl.metadata (15 kB)\n",
            "Requirement already satisfied: anyio<5,>=3.5.0 in /usr/local/lib/python3.11/dist-packages (from groq) (4.9.0)\n",
            "Requirement already satisfied: distro<2,>=1.7.0 in /usr/local/lib/python3.11/dist-packages (from groq) (1.9.0)\n",
            "Requirement already satisfied: httpx<1,>=0.23.0 in /usr/local/lib/python3.11/dist-packages (from groq) (0.28.1)\n",
            "Requirement already satisfied: pydantic<3,>=1.9.0 in /usr/local/lib/python3.11/dist-packages (from groq) (2.11.5)\n",
            "Requirement already satisfied: sniffio in /usr/local/lib/python3.11/dist-packages (from groq) (1.3.1)\n",
            "Requirement already satisfied: typing-extensions<5,>=4.10 in /usr/local/lib/python3.11/dist-packages (from groq) (4.14.0)\n",
            "Requirement already satisfied: idna>=2.8 in /usr/local/lib/python3.11/dist-packages (from anyio<5,>=3.5.0->groq) (3.10)\n",
            "Requirement already satisfied: certifi in /usr/local/lib/python3.11/dist-packages (from httpx<1,>=0.23.0->groq) (2025.4.26)\n",
            "Requirement already satisfied: httpcore==1.* in /usr/local/lib/python3.11/dist-packages (from httpx<1,>=0.23.0->groq) (1.0.9)\n",
            "Requirement already satisfied: h11>=0.16 in /usr/local/lib/python3.11/dist-packages (from httpcore==1.*->httpx<1,>=0.23.0->groq) (0.16.0)\n",
            "Requirement already satisfied: annotated-types>=0.6.0 in /usr/local/lib/python3.11/dist-packages (from pydantic<3,>=1.9.0->groq) (0.7.0)\n",
            "Requirement already satisfied: pydantic-core==2.33.2 in /usr/local/lib/python3.11/dist-packages (from pydantic<3,>=1.9.0->groq) (2.33.2)\n",
            "Requirement already satisfied: typing-inspection>=0.4.0 in /usr/local/lib/python3.11/dist-packages (from pydantic<3,>=1.9.0->groq) (0.4.1)\n",
            "Downloading groq-0.26.0-py3-none-any.whl (129 kB)\n",
            "\u001b[2K   \u001b[90m━━━━━━━━━━━━━━━━━━━━━━━━━━━━━━━━━━━━━━━━\u001b[0m \u001b[32m129.6/129.6 kB\u001b[0m \u001b[31m5.5 MB/s\u001b[0m eta \u001b[36m0:00:00\u001b[0m\n",
            "\u001b[?25hInstalling collected packages: groq\n",
            "Successfully installed groq-0.26.0\n"
          ]
        }
      ]
    },
    {
      "cell_type": "code",
      "execution_count": null,
      "metadata": {
        "colab": {
          "base_uri": "https://localhost:8080/",
          "height": 626
        },
        "id": "O0dxLrWK_San",
        "outputId": "13cc5b23-31ff-437e-f7ba-c3b2d2175fd1"
      },
      "outputs": [
        {
          "output_type": "stream",
          "name": "stdout",
          "text": [
            "It looks like you are running Gradio on a hosted a Jupyter notebook. For the Gradio app to work, sharing must be enabled. Automatically setting `share=True` (you can turn this off by setting `share=False` in `launch()` explicitly).\n",
            "\n",
            "Colab notebook detected. To show errors in colab notebook, set debug=True in launch()\n",
            "* Running on public URL: https://684e1b685377350461.gradio.live\n",
            "\n",
            "This share link expires in 1 week. For free permanent hosting and GPU upgrades, run `gradio deploy` from the terminal in the working directory to deploy to Hugging Face Spaces (https://huggingface.co/spaces)\n"
          ]
        },
        {
          "output_type": "display_data",
          "data": {
            "text/plain": [
              "<IPython.core.display.HTML object>"
            ],
            "text/html": [
              "<div><iframe src=\"https://684e1b685377350461.gradio.live\" width=\"100%\" height=\"500\" allow=\"autoplay; camera; microphone; clipboard-read; clipboard-write;\" frameborder=\"0\" allowfullscreen></iframe></div>"
            ]
          },
          "metadata": {}
        },
        {
          "output_type": "execute_result",
          "data": {
            "text/plain": []
          },
          "metadata": {},
          "execution_count": 9
        }
      ],
      "source": [
        "from groq import Groq\n",
        "import gradio as gr\n",
        "from datetime import datetime\n",
        "import os\n",
        "\n",
        "# 🔑 Replace with your Groq API Key\n",
        "groq_api_key = \"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\"\n",
        "client = Groq(api_key=groq_api_key)\n",
        "\n",
        "# ⚙️ Medical triage function with report file\n",
        "def medical_triage(symptoms, name, age):\n",
        "    prompt = f\"\"\"\n",
        "You are a professional medical triage assistant. A patient named {name}, aged {age}, reports the following symptoms: {symptoms}.\n",
        "\n",
        "Respond in the following format:\n",
        "\n",
        "1. 🧾 Possible Conditions:\n",
        "2. ⏰ Urgency Level (Emergency, Visit Doctor, or Home Care):\n",
        "3. 💊 Suggested Medicines (with dosage, timing - morning/night, before/after food):\n",
        "4. 🧘‍♂️ Recommended Basic Exercises or Yoga:\n",
        "5. 🚑 Emergency Measures (if applicable):\n",
        "6. 📄 Summary Report:\n",
        "\"\"\"\n",
        "\n",
        "    try:\n",
        "        chat_completion = client.chat.completions.create(\n",
        "            messages=[\n",
        "                {\"role\": \"system\", \"content\": \"You are a medical assistant trained for triage, medicine suggestions, and wellness.\"},\n",
        "                {\"role\": \"user\", \"content\": prompt}\n",
        "            ],\n",
        "            model=\"llama3-8b-8192\"\n",
        "        )\n",
        "\n",
        "        result = chat_completion.choices[0].message.content\n",
        "\n",
        "        # Save result as report\n",
        "        timestamp = datetime.now().strftime(\"%Y%m%d_%H%M%S\")\n",
        "        filename = f\"medical_report_{timestamp}.txt\"\n",
        "        filepath = f\"/tmp/{filename}\"  # temp path for Colab/Gradio\n",
        "\n",
        "        with open(filepath, \"w\", encoding=\"utf-8\") as f:\n",
        "            f.write(f\"Patient Name: {name}\\nAge: {age}\\nSymptoms: {symptoms}\\n\\n\")\n",
        "            f.write(result)\n",
        "\n",
        "        return result, filepath\n",
        "\n",
        "    except Exception as e:\n",
        "        return f\"Error: {e}\", None\n",
        "\n",
        "# 🧪 Gradio UI\n",
        "iface = gr.Interface(\n",
        "    fn=medical_triage,\n",
        "    inputs=[\n",
        "        gr.Textbox(label=\"Describe your symptoms\", lines=4, placeholder=\"e.g., cough, fever, throat pain\"),\n",
        "        gr.Textbox(label=\"Your Name\"),\n",
        "        gr.Number(label=\"Your Age\")\n",
        "    ],\n",
        "    outputs=[\n",
        "        gr.Textbox(label=\"Medical Advice\"),\n",
        "        gr.File(label=\"Download Medical Report\")\n",
        "    ],\n",
        "    title=\"🏥 Advanced Medical Triage Chatbot\",\n",
        "    description=\"AI-based medical advisor (LLaMA-3 on Groq) providing possible diagnosis, medicine advice, yoga, emergency tips, and downloadable report.\"\n",
        ")\n",
        "\n",
        "iface.launch()\n"
      ]
    },
    {
      "cell_type": "code",
      "source": [],
      "metadata": {
        "id": "MYzKoDBUuHiz"
      },
      "execution_count": null,
      "outputs": []
    }
  ]
}