{
  "nbformat": 4,
  "nbformat_minor": 0,
  "metadata": {
    "colab": {
      "provenance": []
    },
    "kernelspec": {
      "name": "python3",
      "display_name": "Python 3"
    },
    "language_info": {
      "name": "python"
    }
  },
  "cells": [
    {
      "cell_type": "code",
      "execution_count": null,
      "metadata": {
        "colab": {
          "base_uri": "https://localhost:8080/"
        },
        "id": "TlUgVgDucuLm",
        "outputId": "40ec5f1d-3b89-44f6-d43d-1668eaa8c982"
      },
      "outputs": [
        {
          "name": "stdout",
          "output_type": "stream",
          "text": [
            "You: HELLO\n",
            "AI: HELLO! It's so nice to meet you! Is there something I can help you with, or would you like to chat for a bit? I'm all ears (or rather, all text)!\n",
            "You: WHO IS VIRAT KHOLI\n",
            "AI: Virat Kohli is a Indian international cricketer and former captain of the India national team. He is widely regarded as one of the greatest batsmen of all time.\n",
            "\n",
            "Here are some of his achievements:\n",
            "\n",
            "**Career Highlights:**\n",
            "\n",
            "* Highest run-scorer in T20Is (3,584 runs)\n",
            "* Fastest to reach 25,000 international runs (in 548 innings)\n",
            "* Most centuries in T20Is (31)\n",
            "* Most fifties in T20Is (34)\n",
            "* Highest average in T20Is (52.73)\n",
            "* Most Player of the Match awards in T20Is (15)\n",
            "\n",
            "**Awards and Accolades:**\n",
            "\n",
            "* ICC Cricketer of the Year (2017, 2018)\n",
            "* ICC ODI Player of the Year (2012, 2018)\n",
            "* Wisden Leading Cricketer in the World (2016, 2017, 2018)\n",
            "* BCCI's Polly Umrigar Award for International Cricketer of the Year\n",
            "* Arjuna Award (2013)\n",
            "* Padma Shri (2017)\n",
            "\n",
            "**Captaincy:**\n",
            "\n",
            "* Led India to number one ranking in Tests (2015-2019)\n",
            "* Led India to the final of the 2017 ICC Champions Trophy\n",
            "* Led India to the semi-finals of the 2019 ICC Cricket World Cup\n",
            "\n",
            "**Personal Life:**\n",
            "\n",
            "* Born on November 5, 1988, in Delhi, India\n",
            "* Married to actress Anushka Sharma (2017)\n",
            "* Co-founder of the Virat Kohli Foundation, which supports underprivileged children\n",
            "\n",
            "Kohli is known for his aggressive and dominant batting style, his exceptional fitness level, and his ability to perform under pressure. He is widely admired by cricket fans around the world for his passion, dedication, and commitment to the sport.\n",
            "You: STOP\n",
            "AI: I've stopped! Is there something specific you'd like me to help you with or would you like to start a conversation?\n",
            "You: EXIT\n"
          ]
        }
      ],
      "source": [
        "import requests\n",
        "\n",
        "# Replace with your actual GROQ API Key\n",
        "API_KEY = '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'\n",
        "ENDPOINT = \"https://api.groq.com/openai/v1/chat/completions\"\n",
        "\n",
        "headers = {\n",
        "    \"Authorization\": f\"Bearer {API_KEY}\",\n",
        "    \"Content-Type\": \"application/json\"\n",
        "}\n",
        "\n",
        "def chat_with_groq(user_prompt):\n",
        "    data = {\n",
        "        \"model\": \"llama3-70b-8192\",  # or \"mixtral-8x7b-32768\", \"gemma-7b-it\"\n",
        "        \"messages\": [\n",
        "            {\"role\": \"system\", \"content\": \"You are a helpful assistant.\"},\n",
        "            {\"role\": \"user\", \"content\": user_prompt}\n",
        "        ],\n",
        "        \"temperature\": 0.7\n",
        "    }\n",
        "\n",
        "    response = requests.post(ENDPOINT, headers=headers, json=data)\n",
        "\n",
        "    if response.status_code == 200:\n",
        "        reply = response.json()[\"choices\"][0][\"message\"][\"content\"]\n",
        "        return reply\n",
        "    else:\n",
        "        return f\"Error: {response.status_code} - {response.text}\"\n",
        "\n",
        "\n",
        "# Example usage\n",
        "while True:\n",
        "    user_input = input(\"You: \")\n",
        "    if user_input.lower() in [\"exit\", \"quit\"]:\n",
        "        break\n",
        "    response = chat_with_groq(user_input)\n",
        "    print(\"AI:\", response)\n"
      ]
    }
  ]
}